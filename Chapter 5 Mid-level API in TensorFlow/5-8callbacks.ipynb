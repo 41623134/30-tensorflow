{
 "cells": [
  {
   "cell_type": "markdown",
   "metadata": {},
   "source": [
    "# 5-8 callbacks\n",
    "\n",
    "The callbacks in `tf.keras` is a class, usually specified as a parameter when use `model.fit`. It provides the extra operations at the starting or the ending of training, each epoch or each batch. These operations include record some log information, change learning rate, early termination of the training, etc.\n",
    "\n",
    "Likewise, this callbacks parameter is also able to be specified for `model.evaluate` or `model.predict`, providing extra operations at the starting or the ending of the evaluation, prediction, or each batch. However this method is rarely used.\n",
    "\n",
    "For the most cases, the pre-defined callbacks in the sub-module `keras.callbacks` are sufficient. It is also possible to define child class inheriting `keras.callbacks.Callbacks` to customize callbacks if necessary.\n",
    "\n",
    "All the classes of callbacks are inheriting `keras.callbacks.Callbacks`, which contains two attributes: `params` and `model`. \n",
    "\n",
    "`params` is a dictionary, which records training parameters (e.g. verbosity, batch size, number of epochs, etc.). `model` is the reference to the current model.\n",
    "\n",
    "What's more, there is an extra argument `logs` in the certain methods of the callbacks classes, such as `on_epoch_begin`, `on_batch_end`. This parameter provides certain information of current epoch or batch and are able to save the computing results. These `logs` variables are able to transfer among the functions with the same name in these callbacks classes.\n",
    "\n",
    "\n",
    "\n",
    "### 1. Pre-defined Callbacks\n",
    "\n",
    "\n",
    "* `BaseLogger`: it calcuates the mean metrics among all batches for each epoch. For those metrics with middle status in `staeful_metrics`, it uses the final metrics without calculating mean value for all the batches, and the final mean metrics is added to the variable `logs`. This callback is automatically applied to every Keras model and is applied first.\n",
    "\n",
    "* `History`: a dictionary that records the metrics of each epoch calculated by `BaseLogger` and is returned by `model.fit`. This callback is automatically applied to every Keras model after `BaseLogger`.\n",
    "\n",
    "* `EarlyStopping`: this callback terminates the training if the monitoring metrics are not significantly increased after certain number of epoches.\n",
    "\n",
    "* `TensorBoard`: this callback saves the visualized log of the Tensorboard. It supports visualization of metrics, graphs and parameters in the model.\n",
    "\n",
    "* `ModelCheckpoint`: this callback saves model after each epoch.\n",
    "\n",
    "* `ReduceLROnPlateau`: this callback reduce the learning rate with certain rate if the monitoring metrics are not significantly increased after certain number of epoches.\n",
    "\n",
    "* `TerminateOnNaN`: terminate the training if loss is NaN.\n",
    "\n",
    "* `LearningRateScheduler`: it controls the learning rate before each epoch with given function between the learning rate `lr` and epoch.\n",
    "\n",
    "* `CSVLogger`: save `logs` of each epoch in CSV file.\n",
    "\n",
    "* `ProgbarLogger`: print the `logs` of each epoch into stardard I/O stream.\n",
    "\n",
    "\n"
   ]
  },
  {
   "cell_type": "markdown",
   "metadata": {},
   "source": [
    "### 2. Customized Callbacks\n",
    "\n",
    "\n",
    "It is possible to write a simple callback through `callbacks.LambdaCallback`, or write a complicated callback through inheriting base class `callbacks.Callback`.\n",
    "\n",
    "Don't hesitate to read the source code to know more details of the callbacks in `tf.Keras`.\n"
   ]
  },
  {
   "cell_type": "code",
   "execution_count": 1,
   "metadata": {},
   "outputs": [],
   "source": [
    "import numpy as np\n",
    "import pandas as pd\n",
    "import tensorflow as tf\n",
    "from tensorflow.keras import layers,models,losses,metrics,callbacks\n",
    "import tensorflow.keras.backend as K "
   ]
  },
  {
   "cell_type": "code",
   "execution_count": null,
   "metadata": {},
   "outputs": [],
   "source": [
    "# Example of the simple callback using LambdaCallback\n",
    "\n",
    "import json\n",
    "json_log = open('./data/keras_log.json', mode='wt', buffering=1)\n",
    "json_logging_callback = callbacks.LambdaCallback(\n",
    "    on_epoch_end=lambda epoch, logs: json_log.write(\n",
    "        json.dumps(dict(epoch = epoch,**logs)) + '\\n'),\n",
    "    on_train_end=l"
   ]
  },
  {
   "cell_type": "code",
   "execution_count": 3,
   "metadata": {},
   "outputs": [],
   "source": [
    "# Example of the complicated callback through base class inheritance. This is the source code of LearningRateScheduler.\n",
    "\n",
    "class LearningRateScheduler(callbacks.Callback):\n",
    "    \n",
    "    def __init__(self, schedule, verbose=0):\n",
    "        super(LearningRateScheduler, self).__init__()\n",
    "        self.schedule = schedule\n",
    "        self.verbose = verbose\n",
    "\n",
    "    def on_epoch_begin(self, epoch, logs=None):\n",
    "        if not hasattr(self.model.optimizer, 'lr'):\n",
    "            raise ValueError('Optimizer must have a \"lr\" attribute.')\n",
    "        try:  \n",
    "            lr = float(K.get_value(self.model.optimizer.lr))\n",
    "            lr = self.schedule(epoch, lr)\n",
    "        except TypeError:  # Support for old API for backward compatibility\n",
    "            lr = self.schedule(epoch)\n",
    "        if not isinstance(lr, (tf.Tensor, float, np.float32, np.float64)):\n",
    "            raise ValueError('The output of the \"schedule\" function '\n",
    "                             'should be float.')\n",
    "        if isinstance(lr, ops.Tensor) and not lr.dtype.is_floating:\n",
    "            raise ValueError('The dtype of Tensor should be float')\n",
    "        K.set_value(self.model.optimizer.lr, K.get_value(lr))\n",
    "        if self.verbose > 0:\n",
    "            print('\\nEpoch %05d: LearningRateScheduler reducing learning '\n",
    "                 'rate to %s.' % (epoch + 1, lr))\n",
    "\n",
    "    def on_epoch_end(self, epoch, logs=None):\n",
    "        logs = logs or {}\n",
    "        logs['lr'] = K.get_value(self.model.optimizer.lr)\n"
   ]
  },
  {
   "cell_type": "code",
   "execution_count": null,
   "metadata": {},
   "outputs": [],
   "source": []
  }
 ],
 "metadata": {
  "kernelspec": {
   "display_name": "Python 3",
   "language": "python",
   "name": "python3"
  },
  "language_info": {
   "codemirror_mode": {
    "name": "ipython",
    "version": 3
   },
   "file_extension": ".py",
   "mimetype": "text/x-python",
   "name": "python",
   "nbconvert_exporter": "python",
   "pygments_lexer": "ipython3",
   "version": "3.7.6"
  }
 },
 "nbformat": 4,
 "nbformat_minor": 4
}
