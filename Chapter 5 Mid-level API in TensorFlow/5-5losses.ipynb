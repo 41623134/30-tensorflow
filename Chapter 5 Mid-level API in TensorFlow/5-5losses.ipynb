{
 "cells": [
  {
   "cell_type": "markdown",
   "metadata": {},
   "source": [
    "# 5-5 losses\n",
    "\n",
    "In general, the target function in supervised learning consists of loss function and regularization term. (Target = Loss + Regularization)\n",
    "\n",
    "For the keras model, the regularization term of the target function is usually designated in each layer, such as using `kernel_regularizer` and `bias_regularizer` parameters in `Dense` layer to sepecify using l1 or l2 norm. On the other hand, `kernel_constraint` and `bias_constraint` parameters can limit the range of the weights, which is also a method of regularization.\n",
    "\n",
    "Loss function is designated during the compilation of the model. For the regression models, the most popular loss function is the mean squared error `mean_squared_error`.\n",
    "\n",
    "For binary classification model, the most popular loss function is binary cross entropy `binary_crossentropy`.\n",
    "\n",
    "For multiple classification model, when the labels are one-hot encoded, we should use categorical cross entropy `categorical_crossentropy` as loss function; for the category with ordinal encoding, the sparse categorical cross entropy `sparse_categorical_crossentropy` should be used as the loss funcion.\n",
    "\n",
    "We may define customized loss function when necessary. The customzed loss function requires two tensors `y_true` and `y_pred` as input,and it output a scalar as the value of the caluclated loss function.\n"
   ]
  },
  {
   "cell_type": "code",
   "execution_count": 1,
   "metadata": {},
   "outputs": [],
   "source": [
    "import numpy as np\n",
    "import pandas as pd\n",
    "import tensorflow as tf\n",
    "from tensorflow.keras import layers,models,losses,regularizers,constraints"
   ]
  },
  {
   "cell_type": "markdown",
   "metadata": {},
   "source": [
    "### 1. Loss Function and Regularization Term"
   ]
  },
  {
   "cell_type": "code",
   "execution_count": 2,
   "metadata": {},
   "outputs": [
    {
     "name": "stdout",
     "output_type": "stream",
     "text": [
      "Model: \"sequential\"\n",
      "_________________________________________________________________\n",
      "Layer (type)                 Output Shape              Param #   \n",
      "=================================================================\n",
      "dense (Dense)                (None, 64)                4160      \n",
      "_________________________________________________________________\n",
      "dense_1 (Dense)              (None, 10)                650       \n",
      "=================================================================\n",
      "Total params: 4,810\n",
      "Trainable params: 4,810\n",
      "Non-trainable params: 0\n",
      "_________________________________________________________________\n"
     ]
    }
   ],
   "source": [
    "tf.keras.backend.clear_session()\n",
    "\n",
    "model = models.Sequential()\n",
    "model.add(layers.Dense(64, input_dim=64,\n",
    "                kernel_regularizer=regularizers.l2(0.01), \n",
    "                activity_regularizer=regularizers.l1(0.01),\n",
    "                kernel_constraint = constraints.MaxNorm(max_value=2, axis=0))) \n",
    "model.add(layers.Dense(10,\n",
    "        kernel_regularizer=regularizers.l1_l2(0.01,0.01),activation = \"sigmoid\"))\n",
    "model.compile(optimizer = \"rmsprop\",\n",
    "        loss = \"binary_crossentropy\",metrics = [\"AUC\"])\n",
    "model.summary()"
   ]
  },
  {
   "cell_type": "markdown",
   "metadata": {},
   "source": [
    "### 2. Pre-defined Loss Function\n",
    "\n",
    "\n",
    "There are two types of implementation of the pre-defined loss function: class-type or function-type.\n",
    "\n",
    "e.g. `CategoricalCrossentropy` and `categorical_crossentropy` are both categorical cross entropy; the former is the implementation by class, and the latter is the by function.\n",
    "\n",
    "The most frequently used pre-defined loss functions are:\n",
    "\n",
    "* mean_squared_error (Mean Squared Error, for regression, dubbed as \"mse\", class-type and function-type implementations are `MeanSquaredError` and `MSE`, respectively)\n",
    "\n",
    "* mean_absolute_error (Mean Absolute Error, for regression, dubbed as \"mae\", class-type and function-type implementations are `MeanAbsoluteError` and `MAE`, respectively)\n",
    "\n",
    "* mean_absolute_percentage_error (Mean Absolute Percentage Error, for regression dubed as \"mape\", class-type and function-type implementations are `MeanAbsolutePercentageError` and `MAPE`, respectively)\n",
    "\n",
    "* Huber (Huber Loss，for regression, performance is between \"mse\" and \"mae\", robust to outliers, thus has advantages comparint to \"mse\"; implemented only in class)\n",
    "\n",
    "* binary_crossentropy (Binary Cross Entropy, for binary classification; the class-type implementation is `BinaryCrossentropy`)\n",
    "\n",
    "* categorical_crossentropy (Categorical Cross Entropy, for multiple classification, requires one-hot encoding for the label; the class-type implementation is `CategoricalCrossentropy`)\n",
    "\n",
    "* sparse_categorical_crossentropy (Sparse Categorical Cross Entropy, used for multiple classification, requires ordinal encoding; the class-type implementation is `SparseCategoricalCrossentropy`)\n",
    "\n",
    "* hinge (Hinge loss function, for binary classification, famous for the application as loss function in Support Vector Machine (SVM); the class-type implementation is `Hinge`)\n",
    "\n",
    "* kld (Kullback-Leibler divergence loss, usually used as the loss function in the expectation maximization (EM) algorithm; it is a measurement of the difference between two probability distributions. The class-type and function-type implementations are `KLDivergence` and `KLD`, respectively)\n",
    "\n",
    "* cosine_similarity (Cosine similarity, for multiple classification; the class-type implementation is `CosineSimilarity`)\n"
   ]
  },
  {
   "cell_type": "code",
   "execution_count": null,
   "metadata": {},
   "outputs": [],
   "source": []
  },
  {
   "cell_type": "markdown",
   "metadata": {},
   "source": [
    "### 3. Customized Loss Function\n",
    "\n",
    "\n",
    "The customzed loss function requires two tensors `y_true` and `y_pred` as input,and it output a scalar as the value of the caluclated loss function.\n",
    "\n",
    "It is also possible to customize loss function through inheriting from the base class `tf.keras.losses.Loss` and rewrite the `call` method to implement the calculation of loss.\n",
    "\n",
    "Here is an example of customized implementation to the Focal Loss, which is an improvement of `binary_crossentropy` loss function.\n",
    "\n",
    "Focal Loss results better comparing to the binary cross entropy, given the condition of unbalanced category and many easy samples in training data.\n",
    "\n",
    "It has two adjustable parameters，alpha and gamma. The aim of alpha is to decay the weight of negative samples，and gamma to decay the weight of the easy samples. \n",
    "\n",
    "So the model will then focal its weight on the positive samples and hard samples. This is why the loss is called focal loss. \n",
    "\n",
    "You may refer to the following article for details of this topic: [Understand Focal Loss and GHM in 5 minutes](https://www.zhihu.com/question/63581984)\n"
   ]
  },
  {
   "cell_type": "code",
   "execution_count": 3,
   "metadata": {},
   "outputs": [],
   "source": [
    "def focal_loss(gamma=2., alpha=0.75):\n",
    "    \n",
    "    def focal_loss_fixed(y_true, y_pred):\n",
    "        bce = tf.losses.binary_crossentropy(y_true, y_pred)\n",
    "        p_t = (y_true * y_pred) + ((1 - y_true) * (1 - y_pred))\n",
    "        alpha_factor = y_true * alpha + (1 - y_true) * (1 - alpha)\n",
    "        modulating_factor = tf.pow(1.0 - p_t, gamma)\n",
    "        loss = tf.reduce_sum(alpha_factor * modulating_factor * bce,axis = -1 )\n",
    "        return loss\n",
    "    return focal_loss_fixed"
   ]
  },
  {
   "cell_type": "code",
   "execution_count": 4,
   "metadata": {},
   "outputs": [],
   "source": [
    "class FocalLoss(losses.Loss):\n",
    "    \n",
    "    def __init__(self,gamma=2.0,alpha=0.75,name = \"focal_loss\"):\n",
    "        self.gamma = gamma\n",
    "        self.alpha = alpha\n",
    "\n",
    "    def call(self,y_true,y_pred):\n",
    "        bce = tf.losses.binary_crossentropy(y_true, y_pred)\n",
    "        p_t = (y_true * y_pred) + ((1 - y_true) * (1 - y_pred))\n",
    "        alpha_factor = y_true * self.alpha + (1 - y_true) * (1 - self.alpha)\n",
    "        modulating_factor = tf.pow(1.0 - p_t, self.gamma)\n",
    "        loss = tf.reduce_sum(alpha_factor * modulating_factor * bce,axis = -1 )\n",
    "        return loss"
   ]
  },
  {
   "cell_type": "code",
   "execution_count": null,
   "metadata": {},
   "outputs": [],
   "source": []
  }
 ],
 "metadata": {
  "kernelspec": {
   "display_name": "Python 3",
   "language": "python",
   "name": "python3"
  },
  "language_info": {
   "codemirror_mode": {
    "name": "ipython",
    "version": 3
   },
   "file_extension": ".py",
   "mimetype": "text/x-python",
   "name": "python",
   "nbconvert_exporter": "python",
   "pygments_lexer": "ipython3",
   "version": "3.7.6"
  }
 },
 "nbformat": 4,
 "nbformat_minor": 4
}
