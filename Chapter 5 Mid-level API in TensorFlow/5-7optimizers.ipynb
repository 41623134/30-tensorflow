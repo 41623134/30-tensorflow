{
 "cells": [
  {
   "cell_type": "markdown",
   "metadata": {},
   "source": [
    "# 5-7 optimizers\n",
    "\n",
    "There is a group of magic cooks in machine learning. Their daily life looks like:\n",
    "\n",
    "They grab some raw material (data), put them into a pot (model), light some fire (optimization algorithm), and wait until the cuisine is ready.\n",
    "\n",
    "However, anyone who has cooking experience knows that fire controlling is the key part. Even using same material with the same recipe, different fire level leads to totally different results: medium well, burnt, or still raw.\n",
    "\n",
    "This theroy on cooking also applies to the machine learning. The choice of the optimization algorithm determines the final performance of the final model. An unsatisfying performance is not necessarily due to the problem of feature or model designing, instead, it might be attributed to the choice of optimization algorithm.\n",
    "\n",
    "The evolution of the optimization algorithm for the deep learning is: SGD -> SGDM -> NAG ->Adagrad -> Adadelta(RMSprop) -> Adam -> Nadam\n",
    "\n",
    "You may refer to the following article to for more details [\"Understand the differences in optimization algorthms with just one framework: SGD/AdaGrad/Adam\"](https://zhuanlan.zhihu.com/p/32230623)\n",
    "\n",
    "For the beginners, choosing Adam as the optimizer and using the default parameters will set everything for you.\n",
    "\n",
    "Some researchers who are chaising better metrics for publications could use Adam as the initial optimizer and use SGD later for fine-tuning the parameters for better performance.\n",
    "\n",
    "There are some cutting-edge optimization algorithms claiming a better performance, e.g. LazyAdam, Look-ahead, RAdam, Ranger, etc.\n",
    "\n",
    "\n"
   ]
  },
  {
   "cell_type": "markdown",
   "metadata": {},
   "source": [
    "### 1. How To Use the Optimizer\n",
    "\n",
    "\n",
    "Optimizer accepts variables and corresponding gradient through `apply_gradients` method to iterate over the given variables. Another way is using `minimize` method to optimize the target function iteratively.\n",
    "\n",
    "Another common way is passing the optimizer to the `Model` of keras, and call `model.fit` method to optimize the loss function.\n",
    "\n",
    "A variable named `optimizer.iterations` will be created during optimizer initialization to record the number of iteration. Thus the optimizer should be created outside the decorator `@tf.function` with the same reason as `tf.Variable`."
   ]
  },
  {
   "cell_type": "code",
   "execution_count": 1,
   "metadata": {},
   "outputs": [],
   "source": [
    "import tensorflow as tf\n",
    "import numpy as np \n",
    "\n",
    "# Time stamp\n",
    "@tf.function\n",
    "def printbar():\n",
    "    ts = tf.timestamp()\n",
    "    today_ts = ts%(24*60*60)\n",
    "\n",
    "    hour = tf.cast(today_ts//3600+8,tf.int32)%tf.constant(24)\n",
    "    minite = tf.cast((today_ts%3600)//60,tf.int32)\n",
    "    second = tf.cast(tf.floor(today_ts%60),tf.int32)\n",
    "    \n",
    "    def timeformat(m):\n",
    "        if tf.strings.length(tf.strings.format(\"{}\",m))==1:\n",
    "            return(tf.strings.format(\"0{}\",m))\n",
    "        else:\n",
    "            return(tf.strings.format(\"{}\",m))\n",
    "    \n",
    "    timestring = tf.strings.join([timeformat(hour),timeformat(minite),\n",
    "                timeformat(second)],separator = \":\")\n",
    "    tf.print(\"==========\"*8,end = \"\")\n",
    "    tf.print(timestring)"
   ]
  },
  {
   "cell_type": "code",
   "execution_count": 2,
   "metadata": {},
   "outputs": [
    {
     "name": "stdout",
     "output_type": "stream",
     "text": [
      "================================================================================20:21:30\n",
      "step =  100\n",
      "x =  0.867380381\n",
      "\n",
      "================================================================================20:21:30\n",
      "step =  200\n",
      "x =  0.98241204\n",
      "\n",
      "================================================================================20:21:30\n",
      "step =  300\n",
      "x =  0.997667611\n",
      "\n",
      "================================================================================20:21:30\n",
      "step =  400\n",
      "x =  0.999690711\n",
      "\n",
      "================================================================================20:21:30\n",
      "step =  500\n",
      "x =  0.999959\n",
      "\n",
      "================================================================================20:21:30\n",
      "step =  600\n",
      "x =  0.999994516\n",
      "\n",
      "y = 0\n",
      "x = 0.999995232\n"
     ]
    }
   ],
   "source": [
    "# The minimal value of f(x) = a*x**2 + b*x + c\n",
    "\n",
    "# Here we use optimizer.apply_gradients\n",
    "\n",
    "x = tf.Variable(0.0,name = \"x\",dtype = tf.float32)\n",
    "optimizer = tf.keras.optimizers.SGD(learning_rate=0.01)\n",
    "\n",
    "@tf.function\n",
    "def minimizef():\n",
    "    a = tf.constant(1.0)\n",
    "    b = tf.constant(-2.0)\n",
    "    c = tf.constant(1.0)\n",
    "    \n",
    "    while tf.constant(True): \n",
    "        with tf.GradientTape() as tape:\n",
    "            y = a*tf.pow(x,2) + b*x + c\n",
    "        dy_dx = tape.gradient(y,x)\n",
    "        optimizer.apply_gradients(grads_and_vars=[(dy_dx,x)])\n",
    "        \n",
    "        # Condition of terminating the iteration\n",
    "        if tf.abs(dy_dx)<tf.constant(0.00001):\n",
    "            break\n",
    "            \n",
    "        if tf.math.mod(optimizer.iterations,100)==0:\n",
    "            printbar()\n",
    "            tf.print(\"step = \",optimizer.iterations)\n",
    "            tf.print(\"x = \", x)\n",
    "            tf.print(\"\")\n",
    "                \n",
    "    y = a*tf.pow(x,2) + b*x + c\n",
    "    return y\n",
    "\n",
    "tf.print(\"y =\",minimizef())\n",
    "tf.print(\"x =\",x)"
   ]
  },
  {
   "cell_type": "code",
   "execution_count": null,
   "metadata": {},
   "outputs": [],
   "source": []
  },
  {
   "cell_type": "code",
   "execution_count": 3,
   "metadata": {},
   "outputs": [
    {
     "name": "stdout",
     "output_type": "stream",
     "text": [
      "epoch =  1000\n",
      "y =  0\n",
      "x =  0.999998569\n"
     ]
    }
   ],
   "source": [
    "# Minimal value of f(x) = a*x**2 + b*x + c\n",
    "\n",
    "# Here we use optimizer.minimize\n",
    "\n",
    "x = tf.Variable(0.0,name = \"x\",dtype = tf.float32)\n",
    "optimizer = tf.keras.optimizers.SGD(learning_rate=0.01)   \n",
    "\n",
    "def f():   \n",
    "    a = tf.constant(1.0)\n",
    "    b = tf.constant(-2.0)\n",
    "    c = tf.constant(1.0)\n",
    "    y = a*tf.pow(x,2)+b*x+c\n",
    "    return(y)\n",
    "\n",
    "@tf.function\n",
    "def train(epoch = 1000):  \n",
    "    for _ in tf.range(epoch):  \n",
    "        optimizer.minimize(f,[x])\n",
    "    tf.print(\"epoch = \",optimizer.iterations)\n",
    "    return(f())\n",
    "\n",
    "train(1000)\n",
    "tf.print(\"y = \",f())\n",
    "tf.print(\"x = \",x)\n"
   ]
  },
  {
   "cell_type": "code",
   "execution_count": null,
   "metadata": {},
   "outputs": [],
   "source": []
  },
  {
   "cell_type": "code",
   "execution_count": 4,
   "metadata": {},
   "outputs": [
    {
     "name": "stdout",
     "output_type": "stream",
     "text": [
      "Model: \"fake_model\"\n",
      "_________________________________________________________________\n",
      "Layer (type)                 Output Shape              Param #   \n",
      "=================================================================\n",
      "Total params: 1\n",
      "Trainable params: 1\n",
      "Non-trainable params: 0\n",
      "_________________________________________________________________\n",
      "Epoch 1/10\n",
      "100/100 [==============================] - 0s 792us/step - loss: 0.2481\n",
      "Epoch 2/10\n",
      "100/100 [==============================] - 0s 1ms/step - loss: 0.0044\n",
      "Epoch 3/10\n",
      "100/100 [==============================] - 0s 961us/step - loss: 7.6740e-05\n",
      "Epoch 4/10\n",
      "100/100 [==============================] - 0s 875us/step - loss: 1.3500e-06\n",
      "Epoch 5/10\n",
      "100/100 [==============================] - 0s 770us/step - loss: 1.8477e-08\n",
      "Epoch 6/10\n",
      "100/100 [==============================] - 0s 774us/step - loss: 0.0000e+00\n",
      "Epoch 7/10\n",
      "100/100 [==============================] - 0s 932us/step - loss: 0.0000e+00\n",
      "Epoch 8/10\n",
      "100/100 [==============================] - 0s 750us/step - loss: 0.0000e+00\n",
      "Epoch 9/10\n",
      "100/100 [==============================] - 0s 844us/step - loss: 0.0000e+00\n",
      "Epoch 10/10\n",
      "100/100 [==============================] - 0s 688us/step - loss: 0.0000e+00\n"
     ]
    }
   ],
   "source": [
    "# Minimal value of f(x) = a*x**2 + b*x + c\n",
    "# Here we use model.fit\n",
    "\n",
    "tf.keras.backend.clear_session()\n",
    "\n",
    "class FakeModel(tf.keras.models.Model):\n",
    "    def __init__(self,a,b,c):\n",
    "        super(FakeModel,self).__init__()\n",
    "        self.a = a\n",
    "        self.b = b\n",
    "        self.c = c\n",
    "    \n",
    "    def build(self):\n",
    "        self.x = tf.Variable(0.0,name = \"x\")\n",
    "        self.built = True\n",
    "    \n",
    "    def call(self,features):\n",
    "        loss  = self.a*(self.x)**2+self.b*(self.x)+self.c\n",
    "        return(tf.ones_like(features)*loss)\n",
    "    \n",
    "def myloss(y_true,y_pred):\n",
    "    return tf.reduce_mean(y_pred)\n",
    "\n",
    "model = FakeModel(tf.constant(1.0),tf.constant(-2.0),tf.constant(1.0))\n",
    "\n",
    "model.build()\n",
    "model.summary()\n",
    "\n",
    "model.compile(optimizer = \n",
    "              tf.keras.optimizers.SGD(learning_rate=0.01),loss = myloss)\n",
    "history = model.fit(tf.zeros((100,2)),\n",
    "                    tf.ones(100),batch_size = 1,epochs = 10)  # Iterate for 1000 times\n"
   ]
  },
  {
   "cell_type": "code",
   "execution_count": 5,
   "metadata": {},
   "outputs": [
    {
     "name": "stdout",
     "output_type": "stream",
     "text": [
      "x= 0.999998569\n",
      "loss= 0\n"
     ]
    }
   ],
   "source": [
    "tf.print(\"x=\",model.x)\n",
    "tf.print(\"loss=\",model(tf.constant(0.0)))"
   ]
  },
  {
   "cell_type": "markdown",
   "metadata": {},
   "source": [
    "### 2. Pre-defined Optimizers\n",
    "\n",
    "\n",
    "The evolution of the optimization algorithm for the deep learning is: SGD -> SGDM -> NAG ->Adagrad -> Adadelta(RMSprop) -> Adam -> Nadam\n",
    "\n",
    "There are corresponding classes in `keras.optimizers` sub-module as the implementations of these optimizers.\n",
    "\n",
    "* `SGD`, the default parameters is for a pure SGD. For a non-zero parameter `momentum`, the optimizer changes to SGDM since it considers the first-order momentum. For `nesterov` = True, the optimizer changes to NAG (Nesterov Accelerated Gradient), which calculates the gradient of the one further step.\n",
    "\n",
    "* `Adagrad`, considers the second-order momentum and equipted with self-adaptive learning rate; the drawback is a slow learning rate at a later stage or early ceasing of learning due to the monotonically desending leanring rate.\n",
    "\n",
    "* `RMSprop`, considers the second-order momentum and equipted with self-adaptive learning rate; improves the `Adagrad` through exponential smoothing, which only cnosiders the second-order momentum in a given window length.\n",
    "\n",
    "* `Adadelta`, considers the second-order momentum, similar as `RMSprop` but more complicated with an improved self-adaption.\n",
    "\n",
    "* `Adam`, consider both the first-order and the second-order momentum; it improves `RMSprop` by including first-order momentum.\n",
    "\n",
    "* `Nadam`, improves `Adam` by including Nesterov Acceleration.\n"
   ]
  },
  {
   "cell_type": "code",
   "execution_count": null,
   "metadata": {},
   "outputs": [],
   "source": []
  }
 ],
 "metadata": {
  "kernelspec": {
   "display_name": "Python 3",
   "language": "python",
   "name": "python3"
  },
  "language_info": {
   "codemirror_mode": {
    "name": "ipython",
    "version": 3
   },
   "file_extension": ".py",
   "mimetype": "text/x-python",
   "name": "python",
   "nbconvert_exporter": "python",
   "pygments_lexer": "ipython3",
   "version": "3.7.6"
  }
 },
 "nbformat": 4,
 "nbformat_minor": 4
}
