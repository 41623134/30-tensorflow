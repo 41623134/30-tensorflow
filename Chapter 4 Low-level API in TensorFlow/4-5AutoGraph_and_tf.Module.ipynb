{
 "cells": [
  {
   "cell_type": "markdown",
   "metadata": {},
   "source": [
    "# 4-5 AutoGraph and tf.Module\n",
    "\n",
    "\n",
    "There are three ways of constructing graph: static, dynamic and Autograph.\n",
    "\n",
    "TensorFlow 2.X uses dynamic graph and Autograph.\n",
    "\n",
    "Dynamic graph is easier for debugging with higher encoding efficiency, but with lower efficiency in execution.\n",
    "\n",
    "Static graph has high efficiency in execution, but more difficult for debugging.\n",
    "\n",
    "Autograph mechanism transforms dynamic graph into static graph, making allowance for both executing and encoding efficiencies.\n",
    "\n",
    "There are certain rules for the code that is able to converted by Autograph, or it could result in failure or unexpected results.\n",
    "\n",
    "The coding rules and the mechanisms of Autograph were introduced in the last sections.\n",
    "\n",
    "In this section, we introduce constructing Autograph using `tf.Module`.\n",
    "\n",
    "\n",
    "\n",
    "### 1. Introduction to Autograph and `tf.Module`\n",
    "\n",
    "\n",
    "We mentioned that the definition of `tf.Variable` should be avoided inside the decorator `@tf.function`.\n",
    "\n",
    "However, it would seem to be a imperfect leaked package if we define `tf.Variable` outside the function, since the function has outside dependency.\n",
    "\n",
    "One of the simple solutions is: defining a class and place the definition of `tf.Variable` inside the initial method, and leave the other methods/implementation elsewhere.\n",
    "\n",
    "After such an ingenious operation, it is so naturally as if the chronic constipation was cured by the best laxative.\n",
    "\n",
    "The surprise is that TensorFlow providing us a base class `tf.Module` to get the above naturally. What's more, It is supposed to be inherited for constructing child classes to manage variables and other `Module` conveniently. And the most important that it allows us to save model through `tf.saved_model` and achieve cross-platform deployment. What a surprise!\n",
    "\n",
    "In fact, `tf.keras.models.Model`, `tf.keras.layers.Layer` are both inherited from `tf.Module`. They provides the management to the variables and the referred sub-modules.\n",
    "\n",
    "**We are able to develop arbitrary learning model (not only neural network) and implement cross-platform deployment through the packaging provided by `tf.Module` and the low-level APIs in TensorFlow.**\n",
    "\n",
    "\n",
    "### 2. Packaging Autograph Using `tf.Module`\n",
    "\n",
    "\n",
    "We define a simple function。"
   ]
  },
  {
   "cell_type": "code",
   "execution_count": 1,
   "metadata": {},
   "outputs": [],
   "source": [
    "import tensorflow as tf \n",
    "x = tf.Variable(1.0,dtype=tf.float32)\n",
    "\n",
    "# Use input_signature to limit the signature type of the input tensors with shape and dtype inside the decorator tf.function\n",
    "@tf.function(input_signature=[tf.TensorSpec(shape = [], dtype = tf.float32)])    \n",
    "def add_print(a):\n",
    "    x.assign_add(a)\n",
    "    tf.print(x)\n",
    "    return(x)"
   ]
  },
  {
   "cell_type": "code",
   "execution_count": 2,
   "metadata": {},
   "outputs": [
    {
     "name": "stdout",
     "output_type": "stream",
     "text": [
      "4\n"
     ]
    },
    {
     "data": {
      "text/plain": [
       "<tf.Tensor: shape=(), dtype=float32, numpy=4.0>"
      ]
     },
     "execution_count": 2,
     "metadata": {},
     "output_type": "execute_result"
    }
   ],
   "source": [
    "add_print(tf.constant(3.0))\n",
    "#add_print(tf.constant(3)) # Error: argument inconsistent with the tensor signature."
   ]
  },
  {
   "cell_type": "markdown",
   "metadata": {},
   "source": [
    "Package using `tf.Module`."
   ]
  },
  {
   "cell_type": "code",
   "execution_count": 3,
   "metadata": {},
   "outputs": [],
   "source": [
    "class DemoModule(tf.Module):\n",
    "    def __init__(self,init_value = tf.constant(0.0),name=None):\n",
    "        super(DemoModule, self).__init__(name=name)\n",
    "        with self.name_scope:  # Identical to: with tf.name_scope(\"demo_module\")\n",
    "            self.x = tf.Variable(init_value,dtype = tf.float32,trainable=True)\n",
    "\n",
    "     \n",
    "    @tf.function(input_signature=[tf.TensorSpec(shape = [], dtype = tf.float32)])  \n",
    "    def addprint(self,a):\n",
    "        with self.name_scope:\n",
    "            self.x.assign_add(a)\n",
    "            tf.print(self.x)\n",
    "            return(self.x)\n"
   ]
  },
  {
   "cell_type": "code",
   "execution_count": 4,
   "metadata": {},
   "outputs": [
    {
     "name": "stdout",
     "output_type": "stream",
     "text": [
      "6\n"
     ]
    }
   ],
   "source": [
    "# Execute\n",
    "demo = DemoModule(init_value = tf.constant(1.0))\n",
    "result = demo.addprint(tf.constant(5.0))"
   ]
  },
  {
   "cell_type": "code",
   "execution_count": 5,
   "metadata": {},
   "outputs": [
    {
     "name": "stdout",
     "output_type": "stream",
     "text": [
      "(<tf.Variable 'demo_module/Variable:0' shape=() dtype=float32, numpy=6.0>,)\n",
      "(<tf.Variable 'demo_module/Variable:0' shape=() dtype=float32, numpy=6.0>,)\n"
     ]
    }
   ],
   "source": [
    "# Browse all variables and trainable variables in the module\n",
    "print(demo.variables)\n",
    "print(demo.trainable_variables)\n"
   ]
  },
  {
   "cell_type": "code",
   "execution_count": 6,
   "metadata": {},
   "outputs": [
    {
     "data": {
      "text/plain": [
       "()"
      ]
     },
     "execution_count": 6,
     "metadata": {},
     "output_type": "execute_result"
    }
   ],
   "source": [
    "# Browse all sub-modules\n",
    "demo.submodules"
   ]
  },
  {
   "cell_type": "code",
   "execution_count": 8,
   "metadata": {},
   "outputs": [
    {
     "name": "stdout",
     "output_type": "stream",
     "text": [
      "INFO:tensorflow:Assets written to: ./data/demo/1/assets\n"
     ]
    }
   ],
   "source": [
    "# Save the model using tf.saved_model and specify the method of cross-platform deployment.\n",
    "tf.saved_model.save(demo,\"./data/demo/1\",signatures = {\"serving_default\":demo.addprint})"
   ]
  },
  {
   "cell_type": "code",
   "execution_count": 9,
   "metadata": {},
   "outputs": [
    {
     "name": "stdout",
     "output_type": "stream",
     "text": [
      "INFO:tensorflow:Assets written to: ./data/demo/1/assets\n"
     ]
    }
   ],
   "source": [
    "# Save the model using tf.saved_model and specify the method of cross-platform deployment.\n",
    "tf.saved_model.save(demo,\"./data/demo/1\",signatures = {\"serving_default\":demo.addprint})\n"
   ]
  },
  {
   "cell_type": "code",
   "execution_count": 10,
   "metadata": {},
   "outputs": [
    {
     "name": "stdout",
     "output_type": "stream",
     "text": [
      "\n",
      "MetaGraphDef with tag-set: 'serve' contains the following SignatureDefs:\n",
      "\n",
      "signature_def['__saved_model_init_op']:\n",
      "  The given SavedModel SignatureDef contains the following input(s):\n",
      "  The given SavedModel SignatureDef contains the following output(s):\n",
      "    outputs['__saved_model_init_op'] tensor_info:\n",
      "        dtype: DT_INVALID\n",
      "        shape: unknown_rank\n",
      "        name: NoOp\n",
      "  Method name is: \n",
      "\n",
      "signature_def['serving_default']:\n",
      "  The given SavedModel SignatureDef contains the following input(s):\n",
      "    inputs['a'] tensor_info:\n",
      "        dtype: DT_FLOAT\n",
      "        shape: ()\n",
      "        name: serving_default_a:0\n",
      "  The given SavedModel SignatureDef contains the following output(s):\n",
      "    outputs['output_0'] tensor_info:\n",
      "        dtype: DT_FLOAT\n",
      "        shape: ()\n",
      "        name: StatefulPartitionedCall:0\n",
      "  Method name is: tensorflow/serving/predict\n",
      "WARNING:tensorflow:From /Users/changhua/opt/anaconda3/lib/python3.7/site-packages/tensorflow/python/ops/resource_variable_ops.py:1817: calling BaseResourceVariable.__init__ (from tensorflow.python.ops.resource_variable_ops) with constraint is deprecated and will be removed in a future version.\n",
      "Instructions for updating:\n",
      "If using Keras pass *_constraint arguments to layers.\n",
      "\n",
      "Defined Functions:\n",
      "  Function Name: 'addprint'\n",
      "    Option #1\n",
      "      Callable with:\n",
      "        Argument #1\n",
      "          a: TensorSpec(shape=(), dtype=tf.float32, name='a')\n"
     ]
    }
   ],
   "source": [
    "# Check the info of the model file. The info in the red rectangulars could be used during the deployment and the cross-platform usage.\n",
    "!saved_model_cli show --dir ./data/demo/1 --all"
   ]
  },
  {
   "cell_type": "code",
   "execution_count": null,
   "metadata": {},
   "outputs": [],
   "source": []
  },
  {
   "cell_type": "markdown",
   "metadata": {},
   "source": [
    "\n",
    "Check the graph in tensorboard, the module will be added with name `demo_module`, showing the hierarchy of the graph."
   ]
  },
  {
   "cell_type": "code",
   "execution_count": 16,
   "metadata": {},
   "outputs": [
    {
     "name": "stdout",
     "output_type": "stream",
     "text": [
      "5\n"
     ]
    }
   ],
   "source": [
    "import datetime\n",
    "\n",
    "# Creating log\n",
    "stamp = datetime.datetime.now().strftime(\"%Y%m%d-%H%M%S\")\n",
    "logdir = './data/demomodule/%s' % stamp\n",
    "writer = tf.summary.create_file_writer(logdir)\n",
    "\n",
    "# Start tracing of the Autograph\n",
    "tf.summary.trace_on(graph=True, profiler=True) \n",
    "\n",
    "# Execute the Autograph\n",
    "demo = DemoModule(init_value = tf.constant(0.0))\n",
    "result = demo.addprint(tf.constant(5.0))\n",
    "\n",
    "# Write the info of the graph into the log\n",
    "with writer.as_default():\n",
    "    tf.summary.trace_export(\n",
    "        name=\"demomodule\",\n",
    "        step=0,\n",
    "        profiler_outdir=logdir)\n",
    "    "
   ]
  },
  {
   "cell_type": "code",
   "execution_count": 12,
   "metadata": {},
   "outputs": [],
   "source": [
    "# Magic command to launch tensorboard in jupyter\n",
    "%reload_ext tensorboard"
   ]
  },
  {
   "cell_type": "code",
   "execution_count": 13,
   "metadata": {},
   "outputs": [
    {
     "name": "stdout",
     "output_type": "stream",
     "text": [
      "No known TensorBoard instances running.\n"
     ]
    }
   ],
   "source": [
    "from tensorboard import notebook\n",
    "notebook.list() "
   ]
  },
  {
   "cell_type": "code",
   "execution_count": 18,
   "metadata": {},
   "outputs": [],
   "source": [
    "notebook.start(\"--logdir ./data/demomodule/\")"
   ]
  },
  {
   "cell_type": "markdown",
   "metadata": {},
   "source": [
    "\n",
    "Besides using the child class of `tf.Module`, it is also possible to package through adding attribute to `tf.Module`."
   ]
  },
  {
   "cell_type": "code",
   "execution_count": 19,
   "metadata": {},
   "outputs": [],
   "source": [
    "mymodule = tf.Module()\n",
    "mymodule.x = tf.Variable(0.0)\n",
    "\n",
    "@tf.function(input_signature=[tf.TensorSpec(shape = [], dtype = tf.float32)])  \n",
    "def addprint(a):\n",
    "    mymodule.x.assign_add(a)\n",
    "    tf.print(mymodule.x)\n",
    "    return (mymodule.x)\n",
    "\n",
    "mymodule.addprint = addprint"
   ]
  },
  {
   "cell_type": "code",
   "execution_count": 20,
   "metadata": {},
   "outputs": [
    {
     "name": "stdout",
     "output_type": "stream",
     "text": [
      "1\n"
     ]
    },
    {
     "data": {
      "text/plain": [
       "1.0"
      ]
     },
     "execution_count": 20,
     "metadata": {},
     "output_type": "execute_result"
    }
   ],
   "source": [
    "mymodule.addprint(tf.constant(1.0)).numpy()"
   ]
  },
  {
   "cell_type": "code",
   "execution_count": 21,
   "metadata": {},
   "outputs": [
    {
     "name": "stdout",
     "output_type": "stream",
     "text": [
      "(<tf.Variable 'Variable:0' shape=() dtype=float32, numpy=1.0>,)\n"
     ]
    }
   ],
   "source": [
    "print(mymodule.variables)"
   ]
  },
  {
   "cell_type": "code",
   "execution_count": 22,
   "metadata": {},
   "outputs": [
    {
     "name": "stdout",
     "output_type": "stream",
     "text": [
      "INFO:tensorflow:Assets written to: ./data/mymodule/assets\n",
      "6\n"
     ]
    },
    {
     "data": {
      "text/plain": [
       "<tf.Tensor: shape=(), dtype=float32, numpy=6.0>"
      ]
     },
     "execution_count": 22,
     "metadata": {},
     "output_type": "execute_result"
    }
   ],
   "source": [
    "# Save model using tf.saved_model\n",
    "tf.saved_model.save(mymodule,\"./data/mymodule\",\n",
    "    signatures = {\"serving_default\":mymodule.addprint})\n",
    "\n",
    "# Load the model\n",
    "mymodule2 = tf.saved_model.load(\"./data/mymodule\")\n",
    "mymodule2.addprint(tf.constant(5.0))"
   ]
  },
  {
   "cell_type": "code",
   "execution_count": null,
   "metadata": {},
   "outputs": [],
   "source": []
  },
  {
   "cell_type": "markdown",
   "metadata": {},
   "source": [
    "### 3. `tf.Module` and `tf.keras.Model`，`tf.keras.layers.Layer`\n",
    "\n",
    "\n",
    "The models and the layers in `tf.keras` are implemented through inheriting `tf.Module`. Both of them are able to manage variables and sub-modules.\n"
   ]
  },
  {
   "cell_type": "code",
   "execution_count": 23,
   "metadata": {},
   "outputs": [],
   "source": [
    "import tensorflow as tf\n",
    "from tensorflow.keras import models,layers,losses,metrics"
   ]
  },
  {
   "cell_type": "code",
   "execution_count": 24,
   "metadata": {},
   "outputs": [
    {
     "name": "stdout",
     "output_type": "stream",
     "text": [
      "True\n",
      "True\n",
      "True\n"
     ]
    }
   ],
   "source": [
    "print(issubclass(tf.keras.Model,tf.Module))\n",
    "print(issubclass(tf.keras.layers.Layer,tf.Module))\n",
    "print(issubclass(tf.keras.Model,tf.keras.layers.Layer))"
   ]
  },
  {
   "cell_type": "code",
   "execution_count": 25,
   "metadata": {},
   "outputs": [
    {
     "name": "stdout",
     "output_type": "stream",
     "text": [
      "Model: \"sequential\"\n",
      "_________________________________________________________________\n",
      "Layer (type)                 Output Shape              Param #   \n",
      "=================================================================\n",
      "dense (Dense)                (None, 4)                 44        \n",
      "_________________________________________________________________\n",
      "dense_1 (Dense)              (None, 2)                 10        \n",
      "_________________________________________________________________\n",
      "dense_2 (Dense)              (None, 1)                 3         \n",
      "=================================================================\n",
      "Total params: 57\n",
      "Trainable params: 57\n",
      "Non-trainable params: 0\n",
      "_________________________________________________________________\n"
     ]
    }
   ],
   "source": [
    "tf.keras.backend.clear_session() \n",
    "\n",
    "model = models.Sequential()\n",
    "\n",
    "model.add(layers.Dense(4,input_shape = (10,)))\n",
    "model.add(layers.Dense(2))\n",
    "model.add(layers.Dense(1))\n",
    "model.summary()"
   ]
  },
  {
   "cell_type": "code",
   "execution_count": 26,
   "metadata": {},
   "outputs": [
    {
     "data": {
      "text/plain": [
       "[<tf.Variable 'dense/kernel:0' shape=(10, 4) dtype=float32, numpy=\n",
       " array([[-0.39357895,  0.17201114, -0.17684093, -0.2223306 ],\n",
       "        [-0.5456597 , -0.61319715,  0.5453149 , -0.49931315],\n",
       "        [ 0.4616909 , -0.3636119 ,  0.53100514, -0.10496271],\n",
       "        [-0.15130019, -0.65385187, -0.5520497 ,  0.5473343 ],\n",
       "        [-0.27018473, -0.28345183,  0.43904173,  0.2881096 ],\n",
       "        [-0.6061774 ,  0.05067313,  0.31084698, -0.3930954 ],\n",
       "        [ 0.24834347, -0.6037528 ,  0.56127477, -0.4349454 ],\n",
       "        [ 0.35327137, -0.00703067,  0.4317726 ,  0.5719557 ],\n",
       "        [ 0.3288405 ,  0.34653926, -0.46839088, -0.1573855 ],\n",
       "        [-0.34582734, -0.07715958,  0.34878373,  0.47803998]],\n",
       "       dtype=float32)>,\n",
       " <tf.Variable 'dense/bias:0' shape=(4,) dtype=float32, numpy=array([0., 0., 0., 0.], dtype=float32)>,\n",
       " <tf.Variable 'dense_1/kernel:0' shape=(4, 2) dtype=float32, numpy=\n",
       " array([[-0.91984844, -0.4301288 ],\n",
       "        [-0.35146165, -0.9562588 ],\n",
       "        [ 0.38753748, -0.17635036],\n",
       "        [-0.19446874, -0.00458908]], dtype=float32)>,\n",
       " <tf.Variable 'dense_1/bias:0' shape=(2,) dtype=float32, numpy=array([0., 0.], dtype=float32)>,\n",
       " <tf.Variable 'dense_2/kernel:0' shape=(2, 1) dtype=float32, numpy=\n",
       " array([[-1.2840478 ],\n",
       "        [-0.36043143]], dtype=float32)>,\n",
       " <tf.Variable 'dense_2/bias:0' shape=(1,) dtype=float32, numpy=array([0.], dtype=float32)>]"
      ]
     },
     "execution_count": 26,
     "metadata": {},
     "output_type": "execute_result"
    }
   ],
   "source": [
    "model.variables"
   ]
  },
  {
   "cell_type": "code",
   "execution_count": 27,
   "metadata": {},
   "outputs": [
    {
     "data": {
      "text/plain": [
       "[<tf.Variable 'dense_1/kernel:0' shape=(4, 2) dtype=float32, numpy=\n",
       " array([[-0.91984844, -0.4301288 ],\n",
       "        [-0.35146165, -0.9562588 ],\n",
       "        [ 0.38753748, -0.17635036],\n",
       "        [-0.19446874, -0.00458908]], dtype=float32)>,\n",
       " <tf.Variable 'dense_1/bias:0' shape=(2,) dtype=float32, numpy=array([0., 0.], dtype=float32)>,\n",
       " <tf.Variable 'dense_2/kernel:0' shape=(2, 1) dtype=float32, numpy=\n",
       " array([[-1.2840478 ],\n",
       "        [-0.36043143]], dtype=float32)>,\n",
       " <tf.Variable 'dense_2/bias:0' shape=(1,) dtype=float32, numpy=array([0.], dtype=float32)>]"
      ]
     },
     "execution_count": 27,
     "metadata": {},
     "output_type": "execute_result"
    }
   ],
   "source": [
    "model.layers[0].trainable = False # Freeze the variables in layer 0, make it untrainable.\n",
    "model.trainable_variables"
   ]
  },
  {
   "cell_type": "code",
   "execution_count": 28,
   "metadata": {},
   "outputs": [
    {
     "data": {
      "text/plain": [
       "(<tensorflow.python.keras.engine.input_layer.InputLayer at 0x7feee3baa150>,\n",
       " <tensorflow.python.keras.layers.core.Dense at 0x7feee2e64510>,\n",
       " <tensorflow.python.keras.layers.core.Dense at 0x7feedd3c1950>,\n",
       " <tensorflow.python.keras.layers.core.Dense at 0x7feee47bf790>)"
      ]
     },
     "execution_count": 28,
     "metadata": {},
     "output_type": "execute_result"
    }
   ],
   "source": [
    "model.submodules"
   ]
  },
  {
   "cell_type": "code",
   "execution_count": 29,
   "metadata": {},
   "outputs": [
    {
     "data": {
      "text/plain": [
       "[<tensorflow.python.keras.layers.core.Dense at 0x7feee2e64510>,\n",
       " <tensorflow.python.keras.layers.core.Dense at 0x7feedd3c1950>,\n",
       " <tensorflow.python.keras.layers.core.Dense at 0x7feee47bf790>]"
      ]
     },
     "execution_count": 29,
     "metadata": {},
     "output_type": "execute_result"
    }
   ],
   "source": [
    "model.layers"
   ]
  },
  {
   "cell_type": "code",
   "execution_count": 30,
   "metadata": {},
   "outputs": [
    {
     "name": "stdout",
     "output_type": "stream",
     "text": [
      "sequential\n",
      "sequential\n"
     ]
    }
   ],
   "source": [
    "print(model.name)\n",
    "print(model.name_scope())"
   ]
  },
  {
   "cell_type": "code",
   "execution_count": null,
   "metadata": {},
   "outputs": [],
   "source": []
  }
 ],
 "metadata": {
  "kernelspec": {
   "display_name": "Python 3",
   "language": "python",
   "name": "python3"
  },
  "language_info": {
   "codemirror_mode": {
    "name": "ipython",
    "version": 3
   },
   "file_extension": ".py",
   "mimetype": "text/x-python",
   "name": "python",
   "nbconvert_exporter": "python",
   "pygments_lexer": "ipython3",
   "version": "3.7.6"
  }
 },
 "nbformat": 4,
 "nbformat_minor": 4
}
