{
 "cells": [
  {
   "cell_type": "markdown",
   "metadata": {},
   "source": [
    "# 6-4 Model Training Using Multiple GPUs\n",
    "\n",
    "We recommend using pre-defined `fit` method for training when using multiple GPU, which only requires two additional lines of code.\n",
    "\n",
    "In Colab notebook, choose GPU in Edit -> Notebook Settings -> Hardware Accelerator\n",
    "\n",
    "Note: the following code only executes on Colab.\n",
    "\n",
    "You may use the following link for testing (tf_multiGPU, in Chinese)\n",
    "\n",
    "https://colab.research.google.com/drive/1j2kp_t0S_cofExSN7IyJ4QtMscbVlXU-\n",
    "\n",
    "\n",
    "\n",
    "Introduction to MirroredStrategy：\n",
    "\n",
    "* The strategy gives a copy to each of the N computing devices before training.\n",
    "* When a batch of training data is received, devide the data into N portions and transfer them into N devices (data parallelism)\n",
    "* Each device calculate the local variables (mirrored variables) to calculate the gradient according to the received portion of data.\n",
    "* Implement All-reduce operation in parallel computing, exchange the gradient data and calculate summation, allows each device to obtain the gradient sum from all the devices.\n",
    "* Update the local variables (mirrored variables) using the gradient sum.\n",
    "* Proceed to the next round of training when all the devices updated their local variables (This is a fully synchronized strategy).\n"
   ]
  },
  {
   "cell_type": "code",
   "execution_count": 2,
   "metadata": {},
   "outputs": [
    {
     "name": "stdout",
     "output_type": "stream",
     "text": [
      "2.2.0\n"
     ]
    }
   ],
   "source": [
    "import tensorflow as tf\n",
    "print(tf.__version__)\n",
    "from tensorflow.keras import * \n",
    "\n",
    "\n",
    "# Simulate two logical GPUs with one physical GPU\n",
    "gpus = tf.config.experimental.list_physical_devices('GPU')\n",
    "if gpus:\n",
    "    # Set two logical GPUs for simulation\n",
    "    try:\n",
    "        tf.config.experimental.set_virtual_device_configuration(gpus[0],\n",
    "            [tf.config.experimental.VirtualDeviceConfiguration(memory_limit=1024),\n",
    "             tf.config.experimental.VirtualDeviceConfiguration(memory_limit=1024)])\n",
    "        logical_gpus = tf.config.experimental.list_logical_devices('GPU')\n",
    "        print(len(gpus), \"Physical GPU,\", len(logical_gpus), \"Logical GPUs\")\n",
    "    except RuntimeError as e:\n",
    "        print(e)"
   ]
  },
  {
   "cell_type": "markdown",
   "metadata": {},
   "source": [
    "### 1. Data Preparation\n"
   ]
  },
  {
   "cell_type": "code",
   "execution_count": 3,
   "metadata": {},
   "outputs": [],
   "source": [
    "MAX_LEN = 300\n",
    "BATCH_SIZE = 32\n",
    "(x_train,y_train),(x_test,y_test) = datasets.reuters.load_data()\n",
    "x_train = preprocessing.sequence.pad_sequences(x_train,maxlen=MAX_LEN)\n",
    "x_test = preprocessing.sequence.pad_sequences(x_test,maxlen=MAX_LEN)\n",
    "\n",
    "MAX_WORDS = x_train.max()+1\n",
    "CAT_NUM = y_train.max()+1\n",
    "\n",
    "ds_train = tf.data.Dataset.from_tensor_slices((x_train,y_train)) \\\n",
    "          .shuffle(buffer_size = 1000).batch(BATCH_SIZE) \\\n",
    "          .prefetch(tf.data.experimental.AUTOTUNE).cache()\n",
    "   \n",
    "ds_test = tf.data.Dataset.from_tensor_slices((x_test,y_test)) \\\n",
    "          .shuffle(buffer_size = 1000).batch(BATCH_SIZE) \\\n",
    "          .prefetch(tf.data.experimental.AUTOTUNE).cache()"
   ]
  },
  {
   "cell_type": "markdown",
   "metadata": {},
   "source": [
    "### 2. Model Defining\n"
   ]
  },
  {
   "cell_type": "code",
   "execution_count": 4,
   "metadata": {},
   "outputs": [],
   "source": [
    "tf.keras.backend.clear_session()\n",
    "def create_model():\n",
    "    \n",
    "    model = models.Sequential()\n",
    "\n",
    "    model.add(layers.Embedding(MAX_WORDS,7,input_length=MAX_LEN))\n",
    "    model.add(layers.Conv1D(filters = 64,kernel_size = 5,activation = \"relu\"))\n",
    "    model.add(layers.MaxPool1D(2))\n",
    "    model.add(layers.Conv1D(filters = 32,kernel_size = 3,activation = \"relu\"))\n",
    "    model.add(layers.MaxPool1D(2))\n",
    "    model.add(layers.Flatten())\n",
    "    model.add(layers.Dense(CAT_NUM,activation = \"softmax\"))\n",
    "    return(model)\n",
    "\n",
    "def compile_model(model):\n",
    "    model.compile(optimizer=optimizers.Nadam(),\n",
    "                loss=losses.SparseCategoricalCrossentropy(from_logits=True),\n",
    "                metrics=[metrics.SparseCategoricalAccuracy(),metrics.SparseTopKCategoricalAccuracy(5)]) \n",
    "    return(model)"
   ]
  },
  {
   "cell_type": "markdown",
   "metadata": {},
   "source": [
    "### 3. Model Training\n"
   ]
  },
  {
   "cell_type": "code",
   "execution_count": 5,
   "metadata": {},
   "outputs": [
    {
     "name": "stdout",
     "output_type": "stream",
     "text": [
      "WARNING:tensorflow:There are non-GPU devices in `tf.distribute.Strategy`, not using nccl allreduce.\n",
      "INFO:tensorflow:Using MirroredStrategy with devices ('/job:localhost/replica:0/task:0/device:CPU:0',)\n",
      "Model: \"sequential\"\n",
      "_________________________________________________________________\n",
      "Layer (type)                 Output Shape              Param #   \n",
      "=================================================================\n",
      "embedding (Embedding)        (None, 300, 7)            216874    \n",
      "_________________________________________________________________\n",
      "conv1d (Conv1D)              (None, 296, 64)           2304      \n",
      "_________________________________________________________________\n",
      "max_pooling1d (MaxPooling1D) (None, 148, 64)           0         \n",
      "_________________________________________________________________\n",
      "conv1d_1 (Conv1D)            (None, 146, 32)           6176      \n",
      "_________________________________________________________________\n",
      "max_pooling1d_1 (MaxPooling1 (None, 73, 32)            0         \n",
      "_________________________________________________________________\n",
      "flatten (Flatten)            (None, 2336)              0         \n",
      "_________________________________________________________________\n",
      "dense (Dense)                (None, 46)                107502    \n",
      "=================================================================\n",
      "Total params: 332,856\n",
      "Trainable params: 332,856\n",
      "Non-trainable params: 0\n",
      "_________________________________________________________________\n",
      "Epoch 1/10\n",
      "281/281 [==============================] - 7s 25ms/step - sparse_top_k_categorical_accuracy: 0.7196 - sparse_categorical_accuracy: 0.4156 - loss: 3.4574 - val_sparse_top_k_categorical_accuracy: 0.7155 - val_sparse_categorical_accuracy: 0.5093 - val_loss: 3.3563\n",
      "Epoch 2/10\n",
      "281/281 [==============================] - 8s 29ms/step - sparse_top_k_categorical_accuracy: 0.7199 - sparse_categorical_accuracy: 0.5282 - loss: 3.3386 - val_sparse_top_k_categorical_accuracy: 0.7164 - val_sparse_categorical_accuracy: 0.5303 - val_loss: 3.3356\n",
      "Epoch 3/10\n",
      "281/281 [==============================] - 9s 30ms/step - sparse_top_k_categorical_accuracy: 0.7228 - sparse_categorical_accuracy: 0.5468 - loss: 3.3188 - val_sparse_top_k_categorical_accuracy: 0.7150 - val_sparse_categorical_accuracy: 0.5374 - val_loss: 3.3279\n",
      "Epoch 4/10\n",
      "281/281 [==============================] - 9s 31ms/step - sparse_top_k_categorical_accuracy: 0.7258 - sparse_categorical_accuracy: 0.5625 - loss: 3.3039 - val_sparse_top_k_categorical_accuracy: 0.7164 - val_sparse_categorical_accuracy: 0.5441 - val_loss: 3.3231\n",
      "Epoch 5/10\n",
      "281/281 [==============================] - 9s 31ms/step - sparse_top_k_categorical_accuracy: 0.7298 - sparse_categorical_accuracy: 0.5699 - loss: 3.2963 - val_sparse_top_k_categorical_accuracy: 0.7186 - val_sparse_categorical_accuracy: 0.5289 - val_loss: 3.3378\n",
      "Epoch 6/10\n",
      "281/281 [==============================] - 8s 29ms/step - sparse_top_k_categorical_accuracy: 0.7332 - sparse_categorical_accuracy: 0.5768 - loss: 3.2885 - val_sparse_top_k_categorical_accuracy: 0.7195 - val_sparse_categorical_accuracy: 0.5508 - val_loss: 3.3154\n",
      "Epoch 7/10\n",
      "281/281 [==============================] - 7s 25ms/step - sparse_top_k_categorical_accuracy: 0.7295 - sparse_categorical_accuracy: 0.5823 - loss: 3.2830 - val_sparse_top_k_categorical_accuracy: 0.7159 - val_sparse_categorical_accuracy: 0.5490 - val_loss: 3.3182\n",
      "Epoch 8/10\n",
      "281/281 [==============================] - 8s 27ms/step - sparse_top_k_categorical_accuracy: 0.7322 - sparse_categorical_accuracy: 0.5913 - loss: 3.2745 - val_sparse_top_k_categorical_accuracy: 0.7199 - val_sparse_categorical_accuracy: 0.5561 - val_loss: 3.3107\n",
      "Epoch 9/10\n",
      "281/281 [==============================] - 7s 26ms/step - sparse_top_k_categorical_accuracy: 0.7369 - sparse_categorical_accuracy: 0.5932 - loss: 3.2723 - val_sparse_top_k_categorical_accuracy: 0.7280 - val_sparse_categorical_accuracy: 0.5374 - val_loss: 3.3293\n",
      "Epoch 10/10\n",
      "281/281 [==============================] - 6s 20ms/step - sparse_top_k_categorical_accuracy: 0.7384 - sparse_categorical_accuracy: 0.5945 - loss: 3.2707 - val_sparse_top_k_categorical_accuracy: 0.7337 - val_sparse_categorical_accuracy: 0.5467 - val_loss: 3.3191\n"
     ]
    }
   ],
   "source": [
    "# Add the following two lines of code\n",
    "strategy = tf.distribute.MirroredStrategy()  \n",
    "with strategy.scope(): \n",
    "    model = create_model()\n",
    "    model.summary()\n",
    "    model = compile_model(model)\n",
    "    \n",
    "history = model.fit(ds_train,validation_data = ds_test,epochs = 10)  "
   ]
  },
  {
   "cell_type": "code",
   "execution_count": null,
   "metadata": {},
   "outputs": [],
   "source": []
  }
 ],
 "metadata": {
  "kernelspec": {
   "display_name": "Python 3",
   "language": "python",
   "name": "python3"
  },
  "language_info": {
   "codemirror_mode": {
    "name": "ipython",
    "version": 3
   },
   "file_extension": ".py",
   "mimetype": "text/x-python",
   "name": "python",
   "nbconvert_exporter": "python",
   "pygments_lexer": "ipython3",
   "version": "3.7.6"
  }
 },
 "nbformat": 4,
 "nbformat_minor": 4
}
